{
  "nbformat": 4,
  "nbformat_minor": 0,
  "metadata": {
    "colab": {
      "name": "#3 - Confusion Matrix",
      "provenance": [],
      "collapsed_sections": [],
      "authorship_tag": "ABX9TyMi1w6Bz2mEPJulFn6PGtWM",
      "include_colab_link": true
    },
    "kernelspec": {
      "name": "python3",
      "display_name": "Python 3"
    },
    "language_info": {
      "name": "python"
    },
    "accelerator": "GPU",
    "gpuClass": "standard"
  },
  "cells": [
    {
      "cell_type": "markdown",
      "metadata": {
        "id": "view-in-github",
        "colab_type": "text"
      },
      "source": [
        "<a href=\"https://colab.research.google.com/github/EmmanueleVilla/Tensorflow---Serie-youtube/blob/main/Tensorflow%20%233%20-%20Confusion%20Matrix.ipynb\" target=\"_parent\"><img src=\"https://colab.research.google.com/assets/colab-badge.svg\" alt=\"Open In Colab\"/></a>"
      ]
    },
    {
      "cell_type": "code",
      "execution_count": 2,
      "metadata": {
        "id": "TxhKl80mbicO",
        "colab": {
          "base_uri": "https://localhost:8080/",
          "height": 35
        },
        "outputId": "402c8925-6631-49ed-88a7-cb830dc1371e"
      },
      "outputs": [
        {
          "output_type": "execute_result",
          "data": {
            "text/plain": [
              "'2.8.2'"
            ],
            "application/vnd.google.colaboratory.intrinsic+json": {
              "type": "string"
            }
          },
          "metadata": {},
          "execution_count": 2
        }
      ],
      "source": [
        "import tensorflow as tf\n",
        "import pandas as pd\n",
        "import matplotlib.pyplot as plt\n",
        "import random as random\n",
        "tf.__version__"
      ]
    },
    {
      "cell_type": "code",
      "source": [
        "# 1. Import the dataset\n",
        "mnist = tf.keras.datasets.mnist\n",
        "(train_data, train_labels), (test_data, test_labels) = mnist.load_data()"
      ],
      "metadata": {
        "colab": {
          "base_uri": "https://localhost:8080/"
        },
        "id": "Uk6JkaiXc3OR",
        "outputId": "c506930c-64ac-4f17-858f-a598b74d304b"
      },
      "execution_count": 3,
      "outputs": [
        {
          "output_type": "stream",
          "name": "stdout",
          "text": [
            "Downloading data from https://storage.googleapis.com/tensorflow/tf-keras-datasets/mnist.npz\n",
            "11493376/11490434 [==============================] - 0s 0us/step\n",
            "11501568/11490434 [==============================] - 0s 0us/step\n"
          ]
        }
      ]
    },
    {
      "cell_type": "code",
      "source": [
        "len(train_data), len(test_data)"
      ],
      "metadata": {
        "colab": {
          "base_uri": "https://localhost:8080/"
        },
        "id": "7k6nIPK8dHfh",
        "outputId": "17698e0f-436d-4339-e7f8-eda773ee8901"
      },
      "execution_count": 4,
      "outputs": [
        {
          "output_type": "execute_result",
          "data": {
            "text/plain": [
              "(60000, 10000)"
            ]
          },
          "metadata": {},
          "execution_count": 4
        }
      ]
    },
    {
      "cell_type": "code",
      "source": [
        "train_data.shape"
      ],
      "metadata": {
        "colab": {
          "base_uri": "https://localhost:8080/"
        },
        "id": "jlrge4hUdaKI",
        "outputId": "f908b85b-706b-47bf-b82c-ccc044e0dd0b"
      },
      "execution_count": 5,
      "outputs": [
        {
          "output_type": "execute_result",
          "data": {
            "text/plain": [
              "(60000, 28, 28)"
            ]
          },
          "metadata": {},
          "execution_count": 5
        }
      ]
    },
    {
      "cell_type": "code",
      "source": [
        "# 2. Show some data example\n",
        "plt.figure()\n",
        "plt.imshow(random.choice(train_data))\n",
        "plt.colorbar()\n",
        "plt.grid(False)\n",
        "plt.show()"
      ],
      "metadata": {
        "colab": {
          "base_uri": "https://localhost:8080/",
          "height": 265
        },
        "id": "fTtWdv0ndniZ",
        "outputId": "68c94908-9bec-4a2e-a762-9d40df2f5039"
      },
      "execution_count": 6,
      "outputs": [
        {
          "output_type": "display_data",
          "data": {
            "text/plain": [
              "<Figure size 432x288 with 2 Axes>"
            ],
            "image/png": "[encoded data removed]"
          },
          "metadata": {
            "needs_background": "light"
          }
        }
      ]
    },
    {
      "cell_type": "code",
      "source": [
        "# 3. Create the neural network model\n",
        "\n",
        "model = tf.keras.models.Sequential(\n",
        "    [\n",
        "        tf.keras.layers.Flatten(input_shape=(28,28)),\n",
        "        tf.keras.layers.Lambda(lambda x : x / 255.0),\n",
        "        tf.keras.layers.Dense(56, activation=\"sigmoid\"),\n",
        "        tf.keras.layers.Dense(10, activation=\"softmax\")\n",
        "    ]\n",
        ")"
      ],
      "metadata": {
        "id": "RS79uMp3d6MI"
      },
      "execution_count": 7,
      "outputs": []
    },
    {
      "cell_type": "code",
      "source": [
        "# 4. Compile the model\n",
        "model.compile(\n",
        "    loss=tf.keras.losses.SparseCategoricalCrossentropy(),\n",
        "    optimizer=tf.keras.optimizers.SGD(),\n",
        "    metrics=[\"accuracy\"]\n",
        ")"
      ],
      "metadata": {
        "id": "3ANs0x9jeZf6"
      },
      "execution_count": 8,
      "outputs": []
    },
    {
      "cell_type": "code",
      "source": [
        "# 5. Fit the model\n",
        "history = model.fit(train_data, train_labels, epochs=10, verbose=0)"
      ],
      "metadata": {
        "id": "rFd9CYGdfv91"
      },
      "execution_count": 9,
      "outputs": []
    },
    {
      "cell_type": "code",
      "source": [
        "# 6. Evaluate the model\n",
        "loss, accuracy = model.evaluate(test_data, test_labels)"
      ],
      "metadata": {
        "colab": {
          "base_uri": "https://localhost:8080/"
        },
        "id": "F-Cp6WOkgEbv",
        "outputId": "17187c7c-4600-4cd8-bcca-5ed3985d2e9f"
      },
      "execution_count": 10,
      "outputs": [
        {
          "output_type": "stream",
          "name": "stdout",
          "text": [
            "313/313 [==============================] - 2s 3ms/step - loss: 0.3098 - accuracy: 0.9146\n"
          ]
        }
      ]
    },
    {
      "cell_type": "code",
      "source": [
        "# 7. Plot the training history\n",
        "pd.DataFrame(history.history)[[\"accuracy\"]].plot()"
      ],
      "metadata": {
        "colab": {
          "base_uri": "https://localhost:8080/",
          "height": 282
        },
        "id": "Ra1k-TkLgew2",
        "outputId": "544598e4-8612-4a0e-9a4d-570e3dc170a8"
      },
      "execution_count": 11,
      "outputs": [
        {
          "output_type": "execute_result",
          "data": {
            "text/plain": [
              "<matplotlib.axes._subplots.AxesSubplot at 0x7f99771a0a90>"
            ]
          },
          "metadata": {},
          "execution_count": 11
        },
        {
          "output_type": "display_data",
          "data": {
            "text/plain": [
              "<Figure size 432x288 with 1 Axes>"
            ],
            "image/png": "[encoded data removed]"
          },
          "metadata": {
            "needs_background": "light"
          }
        }
      ]
    },
    {
      "cell_type": "code",
      "source": [
        "# 8. Predict the test data\n",
        "test_preds = model.predict(test_data)"
      ],
      "metadata": {
        "id": "LgBc0zQPhHAF"
      },
      "execution_count": 12,
      "outputs": []
    },
    {
      "cell_type": "code",
      "source": [
        "from sklearn.metrics import confusion_matrix"
      ],
      "metadata": {
        "id": "_NyQK584_aOi"
      },
      "execution_count": 13,
      "outputs": []
    },
    {
      "cell_type": "code",
      "source": [
        "test_labels.shape, test_preds.shape"
      ],
      "metadata": {
        "colab": {
          "base_uri": "https://localhost:8080/"
        },
        "id": "WshJ_h-F_xKB",
        "outputId": "0deb25fb-0ca9-40f8-ed47-ac1c13b224f7"
      },
      "execution_count": 14,
      "outputs": [
        {
          "output_type": "execute_result",
          "data": {
            "text/plain": [
              "((10000,), (10000, 10))"
            ]
          },
          "metadata": {},
          "execution_count": 14
        }
      ]
    },
    {
      "cell_type": "code",
      "source": [
        "test_labels[0], test_preds[0]"
      ],
      "metadata": {
        "colab": {
          "base_uri": "https://localhost:8080/"
        },
        "id": "7Diz7qOt_1lp",
        "outputId": "e821c943-f515-4cbd-b803-31ba1abe579e"
      },
      "execution_count": 15,
      "outputs": [
        {
          "output_type": "execute_result",
          "data": {
            "text/plain": [
              "(7, array([3.6866590e-04, 5.8298992e-06, 5.8434927e-04, 2.7033514e-03,\n",
              "        3.1450265e-05, 1.9571121e-04, 3.1361535e-06, 9.9341702e-01,\n",
              "        5.8305257e-05, 2.6323241e-03], dtype=float32))"
            ]
          },
          "metadata": {},
          "execution_count": 15
        }
      ]
    },
    {
      "cell_type": "code",
      "source": [
        "test_preds_sparse = tf.argmax(test_preds, axis=1)"
      ],
      "metadata": {
        "id": "JPXKl6ou_7Ih"
      },
      "execution_count": 16,
      "outputs": []
    },
    {
      "cell_type": "code",
      "source": [
        "test_preds_sparse[:10]"
      ],
      "metadata": {
        "colab": {
          "base_uri": "https://localhost:8080/"
        },
        "id": "cnIcI8rIAVfJ",
        "outputId": "3ef69866-253c-41bb-a3fe-c1f98eab3a5b"
      },
      "execution_count": 17,
      "outputs": [
        {
          "output_type": "execute_result",
          "data": {
            "text/plain": [
              "<tf.Tensor: shape=(10,), dtype=int64, numpy=array([7, 2, 1, 0, 4, 1, 4, 9, 6, 9])>"
            ]
          },
          "metadata": {},
          "execution_count": 17
        }
      ]
    },
    {
      "cell_type": "code",
      "source": [
        "matrix = confusion_matrix(test_labels, test_preds_sparse)\n",
        "matrix"
      ],
      "metadata": {
        "colab": {
          "base_uri": "https://localhost:8080/"
        },
        "id": "GJFQf1AtAWmh",
        "outputId": "f1ab4f5c-6981-4483-bfd4-c4368cfb6d33"
      },
      "execution_count": 18,
      "outputs": [
        {
          "output_type": "execute_result",
          "data": {
            "text/plain": [
              "array([[ 958,    0,    3,    2,    0,    4,    9,    1,    3,    0],\n",
              "       [   0, 1105,    2,    3,    0,    1,    4,    1,   19,    0],\n",
              "       [  13,    5,  908,   14,   16,    2,   14,   15,   39,    6],\n",
              "       [   3,    0,   19,  913,    0,   31,    3,   15,   18,    8],\n",
              "       [   1,    3,    5,    0,  917,    1,   11,    2,    5,   37],\n",
              "       [  11,    3,    6,   49,    9,  764,   13,    6,   24,    7],\n",
              "       [  15,    3,    3,    1,   13,   17,  900,    1,    5,    0],\n",
              "       [   4,   10,   28,    6,    8,    0,    0,  934,    3,   35],\n",
              "       [   9,   11,    8,   23,   11,   21,   13,   11,  854,   13],\n",
              "       [  14,    6,    5,   11,   44,   10,    0,   21,    5,  893]])"
            ]
          },
          "metadata": {},
          "execution_count": 18
        }
      ]
    },
    {
      "cell_type": "code",
      "source": [
        "from sklearn.metrics import ConfusionMatrixDisplay"
      ],
      "metadata": {
        "id": "ZVnD6ldQAdQg"
      },
      "execution_count": 19,
      "outputs": []
    },
    {
      "cell_type": "code",
      "source": [
        "ConfusionMatrixDisplay.from_predictions(test_labels, test_preds_sparse)"
      ],
      "metadata": {
        "colab": {
          "base_uri": "https://localhost:8080/",
          "height": 296
        },
        "id": "kZK2RYmAAnjo",
        "outputId": "0cfdf875-d1c0-41be-9bcb-e777ee4cd7bc"
      },
      "execution_count": 20,
      "outputs": [
        {
          "output_type": "execute_result",
          "data": {
            "text/plain": [
              "<sklearn.metrics._plot.confusion_matrix.ConfusionMatrixDisplay at 0x7f98fa39b350>"
            ]
          },
          "metadata": {},
          "execution_count": 20
        },
        {
          "output_type": "display_data",
          "data": {
            "text/plain": [
              "<Figure size 432x288 with 2 Axes>"
            ],
            "image/png": "[encoded data removed]"
          },
          "metadata": {
            "needs_background": "light"
          }
        }
      ]
    },
    {
      "cell_type": "code",
      "source": [
        "def plot_wrong_labeled_data(X_test, y_true, y_preds, label_to_check, wrong_label = None):\n",
        "  # Search for the wrong data\n",
        "  wrongs = []\n",
        "  for i in range(len(X_test)):\n",
        "    true_label_found = y_true[i] == label_to_check\n",
        "    wrong_label_found = wrong_label != None and y_preds[i] == wrong_label\n",
        "    wrong_preds_label = wrong_label == None and y_preds[i] != label_to_check\n",
        "    if true_label_found and (wrong_label_found or wrong_preds_label):\n",
        "      wrongs.append((X_test[i], y_preds[i]))\n",
        "  \n",
        "  # Shuffle result\n",
        "  random.shuffle(wrongs)\n",
        "\n",
        "  # Plot result\n",
        "  plt.figure(figsize=(10,10))\n",
        "  for i in range(25):\n",
        "    wrong = wrongs[i]\n",
        "    plt.subplot(5, 5, i+1)\n",
        "    plt.xticks([])\n",
        "    plt.yticks([])\n",
        "    plt.imshow(wrong[0], cmap=plt.cm.binary)\n",
        "    plt.text(14, 32, wrong[1].numpy())\n",
        "  plt.show()"
      ],
      "metadata": {
        "id": "8wJXHprdAs5I"
      },
      "execution_count": 21,
      "outputs": []
    },
    {
      "cell_type": "code",
      "source": [
        "plot_wrong_labeled_data(test_data, test_labels, test_preds_sparse, 5, 3)"
      ],
      "metadata": {
        "colab": {
          "base_uri": "https://localhost:8080/",
          "height": 592
        },
        "id": "QBTXoFx5BeHQ",
        "outputId": "8ce5f118-3fb9-4f47-cc8d-8d48018038c9"
      },
      "execution_count": 22,
      "outputs": [
        {
          "output_type": "display_data",
          "data": {
            "text/plain": [
              "<Figure size 720x720 with 25 Axes>"
            ],
            "image/png": "[encoded data removed]"
          },
          "metadata": {}
        }
      ]
    }
  ]
}